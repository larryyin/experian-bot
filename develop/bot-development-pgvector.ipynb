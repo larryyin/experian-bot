{
 "cells": [
  {
   "cell_type": "code",
   "execution_count": 1,
   "id": "a9035cef-436c-44b9-94e2-54cc5b145328",
   "metadata": {},
   "outputs": [],
   "source": [
    "import os\n",
    "import openai\n",
    "import sys\n",
    "import io\n",
    "import IPython.display\n",
    "import gradio as gr\n",
    "\n",
    "from dotenv import load_dotenv, find_dotenv\n",
    "_ = load_dotenv(find_dotenv()) # read local .env file\n",
    "\n",
    "openai.api_key  = os.environ['OPENAI_API_KEY']\n",
    "hf_api_key = os.environ['HF_API_KEY']"
   ]
  },
  {
   "cell_type": "code",
   "execution_count": 2,
   "id": "eb3852c4-c247-43a3-9b54-d665ed942e1d",
   "metadata": {},
   "outputs": [
    {
     "data": {
      "text/plain": [
       "131072"
      ]
     },
     "execution_count": 2,
     "metadata": {},
     "output_type": "execute_result"
    }
   ],
   "source": [
    "import sys\n",
    "import csv\n",
    "\n",
    "csv.field_size_limit(sys.maxsize)"
   ]
  },
  {
   "cell_type": "code",
   "execution_count": 4,
   "id": "617d70e3-1120-4026-adc6-eeab868cc2bd",
   "metadata": {},
   "outputs": [],
   "source": [
    "from langchain.document_loaders.csv_loader import CSVLoader\n",
    "load_filename = \"processed/scraped_null_removed.csv\"\n",
    "source_column = \"fname\"\n",
    "loader = CSVLoader(file_path=load_filename, source_column=source_column)\n",
    "pages = loader.load()"
   ]
  },
  {
   "cell_type": "code",
   "execution_count": 5,
   "id": "d1dbac20-8736-4f09-a65e-48957b1d8745",
   "metadata": {},
   "outputs": [],
   "source": [
    "from langchain.text_splitter import RecursiveCharacterTextSplitter\n",
    "text_splitter = RecursiveCharacterTextSplitter(\n",
    "    chunk_size=3500,\n",
    "    chunk_overlap=300,\n",
    "    length_function=len,\n",
    "    separators=[\"\\n\\n\", \"\\n\", \"(?<=\\. )\", \" \", \"\"]\n",
    ")\n",
    "splits = text_splitter.split_documents(pages)"
   ]
  },
  {
   "cell_type": "code",
   "execution_count": 6,
   "id": "90373eff-8fe6-47cc-988f-93def60de4ec",
   "metadata": {},
   "outputs": [
    {
     "data": {
      "text/plain": [
       "420604"
      ]
     },
     "execution_count": 6,
     "metadata": {},
     "output_type": "execute_result"
    }
   ],
   "source": [
    "len(splits)"
   ]
  },
  {
   "cell_type": "code",
   "execution_count": 7,
   "id": "1a140a3f-a07d-4363-b0c5-a73a6c1a3290",
   "metadata": {},
   "outputs": [],
   "source": [
    "from langchain.embeddings.openai import OpenAIEmbeddings\n",
    "from langchain.vectorstores.pgvector import PGVector\n",
    "\n",
    "embedding = OpenAIEmbeddings()"
   ]
  },
  {
   "cell_type": "code",
   "execution_count": 8,
   "id": "a149ff8a-0d48-40bf-9fa9-9147945d9dc7",
   "metadata": {},
   "outputs": [],
   "source": [
    "database_name = \"experian\"\n",
    "user = \"larryyin\"\n",
    "passwd = \"\""
   ]
  },
  {
   "cell_type": "code",
   "execution_count": 9,
   "id": "8892fb14-4669-4235-87c1-6be48b67cd6a",
   "metadata": {},
   "outputs": [],
   "source": [
    "# PGVector needs the connection string to the database.\n",
    "# CONNECTION_STRING = \"postgresql+psycopg2://harrisonchase@localhost:5432/test3\"\n",
    "\n",
    "# # Alternatively, you can create it from enviornment variables.\n",
    "# import os\n",
    "\n",
    "CONNECTION_STRING = PGVector.connection_string_from_db_params(\n",
    "    driver=\"psycopg2\",\n",
    "    host=\"localhost\",\n",
    "    port=5432,\n",
    "    database=database_name,\n",
    "    user=user,\n",
    "    password=passwd,\n",
    ")\n",
    "\n",
    "COLLECTION_NAME = \"experian230725\""
   ]
  },
  {
   "cell_type": "code",
   "execution_count": 10,
   "id": "f4c24ce5-4d58-4cc7-aec4-cc89accb397c",
   "metadata": {},
   "outputs": [
    {
     "data": {
      "text/plain": [
       "'postgresql+psycopg2://larryyin:@localhost:5432/experian'"
      ]
     },
     "execution_count": 10,
     "metadata": {},
     "output_type": "execute_result"
    }
   ],
   "source": [
    "CONNECTION_STRING"
   ]
  },
  {
   "cell_type": "code",
   "execution_count": 11,
   "id": "8bcf596f-61e2-4878-8c1d-f95b303fbe4f",
   "metadata": {},
   "outputs": [
    {
     "name": "stdout",
     "output_type": "stream",
     "text": [
      "Database experian already exists.\n"
     ]
    }
   ],
   "source": [
    "import psycopg2\n",
    "from psycopg2 import sql\n",
    "from psycopg2.extensions import ISOLATION_LEVEL_AUTOCOMMIT\n",
    "\n",
    "# Establish a connection to the database\n",
    "# You should connect to the postgres (system) database to create a new database\n",
    "conn = psycopg2.connect(\n",
    "    dbname=\"postgres\",\n",
    "    user=user,\n",
    "    password=passwd,\n",
    "    host=\"localhost\"\n",
    ")\n",
    "\n",
    "# Create a new cursor object\n",
    "cur = conn.cursor()\n",
    "\n",
    "# The name of the database we want to create\n",
    "dbname = database_name\n",
    "\n",
    "# Check if the database already exists\n",
    "cur.execute(sql.SQL(\"SELECT 1 FROM pg_catalog.pg_database WHERE datname = %s\"), (dbname,))\n",
    "\n",
    "exists = cur.fetchone()\n",
    "if not exists:\n",
    "    # If the database does not exist, create it\n",
    "    # Since the CREATE DATABASE command is a transaction block, we set the connection to the autocommit mode.\n",
    "    conn.set_isolation_level(ISOLATION_LEVEL_AUTOCOMMIT)\n",
    "    cur.execute(sql.SQL(\"CREATE DATABASE {}\").format(sql.Identifier(dbname)))\n",
    "    print(f\"Database {dbname} created successfully.\")\n",
    "else:\n",
    "    print(f\"Database {dbname} already exists.\")\n",
    "\n",
    "# Close the cursor and the connection\n",
    "cur.close()\n",
    "conn.close()\n",
    "\n",
    "\n",
    "conn = psycopg2.connect(\n",
    "    dbname=database_name,\n",
    "    user=user,\n",
    "    password=passwd,\n",
    "    host=\"localhost\"\n",
    ")\n",
    "\n",
    "cur = conn.cursor()\n",
    "\n",
    "# Execute the SQL statement to create the extension\n",
    "cur.execute(\"CREATE EXTENSION IF NOT EXISTS vector;\")\n",
    "\n",
    "# Commit the transaction\n",
    "conn.commit()\n",
    "\n",
    "# Close the cursor and connection\n",
    "cur.close()\n",
    "conn.close()"
   ]
  },
  {
   "cell_type": "code",
   "execution_count": 12,
   "id": "2102e3c6-c043-4795-b2a3-42100741563b",
   "metadata": {},
   "outputs": [],
   "source": [
    "def close_all_connections(database_name, user, passwd):\n",
    "    # Define our connection string\n",
    "    conn_string = f\"host='localhost' dbname='{database_name}' user='{user}' password='{passwd}'\"\n",
    "    \n",
    "    # Get a connection, if a connect cannot be made an exception will be raised here\n",
    "    conn = psycopg2.connect(conn_string)\n",
    "    \n",
    "    # conn.cursor will return a cursor object, you can use this cursor to perform queries\n",
    "    cursor = conn.cursor()\n",
    "    \n",
    "    # Terminate all connections to the 'target_database'\n",
    "    cursor.execute(f\"\"\"\n",
    "        SELECT pg_terminate_backend(pg_stat_activity.pid)\n",
    "        FROM pg_stat_activity\n",
    "        WHERE pg_stat_activity.datname = '{database_name}'\n",
    "          AND pid <> pg_backend_pid();\n",
    "    \"\"\")\n",
    "    \n",
    "    # Commit the transaction\n",
    "    conn.commit()\n",
    "    \n",
    "    # Close the cursor and connection\n",
    "    cursor.close()\n",
    "    conn.close()"
   ]
  },
  {
   "cell_type": "code",
   "execution_count": 13,
   "id": "fd96f798-6c19-47f6-a66e-6675b22016ac",
   "metadata": {},
   "outputs": [],
   "source": [
    "def count_connections(database_name, user, passwd):\n",
    "    # Define our connection string\n",
    "    conn_string = f\"host='localhost' dbname='{database_name}' user='{user}' password='{passwd}'\"\n",
    "    \n",
    "    # Get a connection\n",
    "    conn = psycopg2.connect(conn_string)\n",
    "    \n",
    "    # conn.cursor will return a cursor object, you can use this cursor to perform queries\n",
    "    cursor = conn.cursor()\n",
    "    \n",
    "    # Count all active connections\n",
    "    cursor.execute(f\"SELECT COUNT(*) FROM pg_stat_activity WHERE datname = '{database_name}';\")\n",
    "    \n",
    "    # Fetch the result\n",
    "    result = cursor.fetchone()\n",
    "    \n",
    "    # result is a tuple with one element, so get the first element\n",
    "    active_connections = result[0]\n",
    "    \n",
    "    print(f'Number of active connections: {active_connections}')\n",
    "    \n",
    "    # Close the cursor and connection\n",
    "    cursor.close()\n",
    "    conn.close()"
   ]
  },
  {
   "cell_type": "code",
   "execution_count": null,
   "id": "5fa361a1-323f-445e-96f4-3903e5cbe0ed",
   "metadata": {},
   "outputs": [],
   "source": []
  },
  {
   "cell_type": "code",
   "execution_count": null,
   "id": "6e25abbe-cf16-4619-92fe-a4c7672f376c",
   "metadata": {
    "scrolled": true
   },
   "outputs": [],
   "source": [
    "import time\n",
    "\n",
    "total_length = len(splits)\n",
    "batch_size = 100\n",
    "\n",
    "for batch_start in range(0, total_length, batch_size):\n",
    "    batch_end = min(batch_start + batch_size, total_length)\n",
    "    batch_texts = splits[batch_start:batch_end]\n",
    "    PGVector.from_documents(documents=batch_texts,\n",
    "                          embedding=embedding,\n",
    "                          collection_name=COLLECTION_NAME,\n",
    "                          connection_string=CONNECTION_STRING,\n",
    "                         )\n",
    "    print(f\"Inserted {batch_end}/{total_length} chunks\")\n",
    "\n",
    "    if (batch_end % 3000 == 0):\n",
    "        print(\"Before disconnect:\")\n",
    "        count_connections(database_name, user, passwd)\n",
    "        \n",
    "        close_all_connections(database_name, user, passwd)\n",
    "        \n",
    "        print(\"After disconnect:\")\n",
    "        count_connections(database_name, user, passwd)\n",
    "    \n",
    "    time.sleep(10)"
   ]
  },
  {
   "cell_type": "code",
   "execution_count": null,
   "id": "d39cc994-d379-4f5d-b218-583ea40ff1f6",
   "metadata": {},
   "outputs": [],
   "source": []
  },
  {
   "cell_type": "code",
   "execution_count": 15,
   "id": "e73cd353-0d00-4e2c-b548-55a34816f058",
   "metadata": {},
   "outputs": [],
   "source": [
    "vectordb = PGVector(embedding_function=embedding,\n",
    "                  collection_name=COLLECTION_NAME,\n",
    "                  connection_string=CONNECTION_STRING,\n",
    "                 )"
   ]
  },
  {
   "cell_type": "code",
   "execution_count": 16,
   "id": "3c30c3b2-9b9e-4126-8747-e419279b0e49",
   "metadata": {},
   "outputs": [
    {
     "data": {
      "text/plain": [
       "[Document(page_content=\"Get free access      Categories  Credit Report & Scores Back View All Credit Report & ScoresScore Advice Report Advice Back View All Report AdviceBankruptcyCharge OffClosed AccountsCollectionsCosigningCredit LimitCredit RepairDenied CreditDisputeForeclosureInquiryLate PaymentNegative InformationReport DetailsRepossessionImprove Credit Life Stages BackEstablishing CreditMarriageDivorceKidsEmploymentDeath of a RelativeStudents Fraud & Identity Theft Back View All Fraud & Identity TheftFraud AlertSecurity FreezePreventionData BreachCybersecurity Credit Cards Back View All Credit Cards Best Credit Cards Credit Card Reviews Rewards Credit Cards Cash Back Credit Cards Balance Transfers Travel Credit Cards Secured Credit Cards Student Credit CardsCredit Card BasicsAPR Loans Back View All Loans Loan Basics Loan ReviewsAuto LoansStudent LoansPersonal Loans Insurance Back View All Insurance Auto Insurance Home Insurance Life Insurance Health Insurance Insurance Reviews Finance Back View All Personal Finance Budgeting SavingDebt Mortgage Investing Taxes Small Business Latest News & TrendsAdvertiser Disclosure Fraud & Identity TheftHow Does Experian Help Victims of Identity Theft?January 31, 2020\\xa0\\xa0•\\xa0\\xa03 min readBy Jennifer White  Dear Experian,How does Experian help victims of identity theft?- TCMDear TCM,There are a number of ways that Experian works to help victims of fraud and identity theft, including products and services to help consumers protect their credit if they've had their personal information compromised.Identity thieves may obtain valuable personal information by stealing your purse or wallet, going through your mail, breaching a computer system or tricking you into providing personal information through a false email (phishing). While Experian may not be able to prevent criminals from stealing your identity, we can help you prevent use of your stolen identity to open new accounts and can help you recover from fraud that results from identity theft.How Experian Works to Help Prevent Credit FraudChecking for inconsistencies: When a lender requests a credit report as a result of an application for credit, Experian automatically checks the information for warning signs of fraud, such as an address or Social Security number that doesn't match the consumer's existing records.Identifying potential fraud activity: Experian also uses a national fraud database that connects known fraud instances and notifies lenders of potential fraud before it occurs.How Experian Helps Victims of Identity TheftExperian offers the following options and assistance to help consumers recover from credit fraud and identity theft:Fraud alerts: There are several fraud alerts, or security alerts, available for consumers to add to their credit reports. When you request a fraud alert, Experian will automatically share your request with the other two major consumer credit reporting agencies.Initial alert: Consumers who are aware that their information may have been compromised, because a wallet was stolen or they received a security breach notice, may wish to add an initial security alert to their credit report.\", metadata={'source': 'n.com blogs ask experian how does experian help victims of identity theft', 'row': 11287}),\n",
       " Document(page_content=\"They are often the first results when searching your name online and are marketplaces for data brokers to buy and sell personal data, making it easier for anyone, including robocallers, spammers, hackers and identity thieves to access your information and leave you more vulnerable to identity theft.Get your free Experian personal privacy scanStart your free scanGet your free Experian personal privacy scanStart your free scanCreditCreditFree credit monitoring3-bureau reports and FICO® ScoresAnnual credit reportExperian CreditLockUnderstanding credit reportsHow to improve your credit scorePersonal financePersonal financeCredit card reviewsLoan reviewsCar insurance reviewsBudgetingSavingMortgage & rentingSupportSupportHow to freeze your credit fileHow to dispute info on your credit reportIdentity theft victim assistanceSupport for denied creditUpload a document to ExperianExperian customer supportExperian's Diversity, Equity and InclusionLearn more how Experian is committedData privacyYour privacy choices Legal Terms & ConditionsPrivacy PolicyCA Privacy PolicyPressAd ChoicesCareersInvestor RelationsContact Us© 2023 Experian. All rights reserved.Experian and the Experian trademarks used herein are trademarks or registered trademarks of Experian and its affiliates. The use of any other trade name, copyright, or trademark is for identification and reference purposes only and does not imply any association with the copyright or trademark holder of their product or brand. Other product and company names mentioned herein are the property of their respective owners. Licenses and Disclosures.\", metadata={'source': 'n.com protection personal privacy scan', 'row': 2692}),\n",
       " Document(page_content=\"text: n.com corporate experian interactive.   Interactive Business Solutions at Experian.com         Skip to main navigation Consumer Small Business Business  Share price at About Experian Consumer Support Credit Advice Global Sites    Experian Global Sites  Argentina Australia Austria Belgium Brazil Bulgaria Canada Chile China Colombia Czech Republic Denmark Finland Germany Hong Kong India Ireland Italy Japan Malaysia Mexico Netherlands New Zealand Norway Peru Singapore South Africa Spain Sweden Switzerland Taiwan Turkey UAE United Kingdom United States     Toggle main navigation   Search   Skip to main content Company Profile Company Profile Principal Businesses Areas of Expertise Corporate Responsibility Locations Investor Relations Data for Good Press Careers Careers Locations Teams Experian Life Search Jobs Events Suppliers Third Party Technical Providers More...  \\xa0  Toggle business navigation      Solutions Advanced Analytics & Modeling Cloud Applications & Services Collections & Debt Recovery Customer Management Credit Decisioning Credit Profile Reports Data Reporting & Furnishing Data Sources Data Quality & Management Fraud Management Identity Solutions Marketing Solutions Regulatory Compliance Risk Management  Industries Advertising & Media Automotive Banks Credit Unions Energy & Utilities Fintech Healthcare Mortgage Public Sector Rental Solutions Telecommunications  Specialized Services Business Information Services Consumer Information Services Data Breach Resolution Experian Data Quality Decision Analytics Experian Advisory Services Marketing Services Partner Solutions Experian RentBureau Screening Services Small Business Services     Experian® principal business lines Consumer services    Corporate        Experian Interactive          Corporate Corporate Fact Sheet Principal Businesses Credit Services Decision Analytics Marketing Services Consumer Services  Areas of Expertise Corporate Responsibility Locations Investor Relations   Consumer Services A person's credit report contains their complete credit repayment history and is the basis for their credit score. This score measures the likelihood that they will repay what they owe and is used by lenders to assess risk, before they lend. The credit report data comes from our Credit Services business line, so a person can see what lenders see about them. Using our interactive tools, they can then routinely monitor their credit and identify ways to improve their credit score. People may also use their credit status for a one-off event, such as negotiating the best deal for a large credit-dependent purchase, like a car. Our identity protection services provide people with identity theft detection, protection and fraud resolution. We monitor the information in a person's credit report and let them know about changes that might be identity fraud. In the event of fraud, we give people access to a dedicated fraud resolution service, together with insurance against financial loss. We also help parents to monitor their children's online activity, with our Safetyweb.com\\xa0services. Our DataPatrol product provides real-time web and social network monitoring, to help prevent identity fraud before it happens. We currently offer credit reports and scores in the US through\\xa0Experian.com,\\xa0CreditReport.com\\xa0and\\xa0freecreditscore.com, and through\\xa0CreditExpert.co.uk\\xa0in the UK.\", metadata={'source': 'n.com corporate experian interactive', 'row': 13344}),\n",
       " Document(page_content='For us at Experian, using our data and expertise to create a\\xa0better...\\t\\t\\t July 9, 2020 by\\t\\t\\t\\t\\tAbigail Lovell  Read More Experian Commits to Reach 100 Million Additional Consumers by 2025 Share \\t\\t\\t\\t\\t\\t\\t    Credit Fact Check: Setting the Record Straight on Cred... \\t\\t“What does a credit bureau do?” is one of the most common questions I’ve answered throughout the years – both at conferences and cookouts....\\t\\t\\t July 6, 2020 by\\t\\t\\t\\t\\tRod Griffin  Read More Credit Fact Check: Setting the Record Straight on Credit Myths Share \\t\\t\\t\\t\\t\\t\\t    The Small Business Guide to Tackling Credit Amid COVID... \\t\\tSmall businesses\\xa0are the backbone of our nation’s economy,\\xa0generating 44%\\xa0of the nation’s overall revenue. When they take a hit,\\xa0we all\\xa0feel it.\\xa0But as good\\xa0neighbors\\xa0– and frequent...\\t\\t\\t May 27, 2020 by\\t\\t\\t\\t\\tHiq Lee  Read More The Small Business Guide to Tackling Credit Amid COVID-19 Share \\t\\t\\t\\t\\t\\t\\t    Experian Joins the #AscendTogether Campaign As Asian P... \\t\\tToday kicks off Asian Pacific American Heritage Month. The Experian Asian American Employee Resource Group (ERG) is proud to recognize this special month by...\\t\\t\\t May 1, 2020 by\\t\\t\\t\\t\\tDacy Yee and Jimmy Cheung  Read More Experian Joins the #AscendTogether Campaign As Asian Pacific American Heritage Month Begins Share \\t\\t\\t\\t\\t\\t\\t    Experian Announces Free Weekly Credit Reports to Help ... \\t\\tWith the impact of COVID-19, we’re certainly in uncharted territory. Many people are struggling with high unemployment, which is resulting in missed credit card,...\\t\\t\\t April 20, 2020 by\\t\\t\\t\\t\\tAlex Lintner  Read More Experian Announces Free Weekly Credit Reports to Help Americans in Response to COVID-19 Share \\t\\t\\t\\t\\t\\t\\t   Posts navigation 1 … 5 6 7 8 9 … 22   Recent Articles Survey Says: Many Gen Zers and Millennials Seeking Financial Independence Experian’s Power of YOU: 2023 Diversity, Equity and Inclusion Report Enjoy the Open Road: Small Steps to Save on Vehicle Purchases and Repairs Experian’s Work Promoting Financial Inclusion Recognised with an ‘Outstanding Company Contribution to the Industry’ Award   Never miss a blog post! Subscribe to keep up with all things Experian. \\t\\t\\t\\t\\t\\t\\t\\tSubscribe\\t\\t\\t\\t\\t\\t\\t   Never miss a blog post! Subscribe to keep up with all things Experian. Loading...', metadata={'source': 'n.com blogs news category esg page 7', 'row': 7294})]"
      ]
     },
     "execution_count": 16,
     "metadata": {},
     "output_type": "execute_result"
    }
   ],
   "source": [
    "vectordb.similarity_search(\"What does Experian do?\")"
   ]
  },
  {
   "cell_type": "code",
   "execution_count": null,
   "id": "11eb95a4-91ee-491e-999e-95e016c313a9",
   "metadata": {},
   "outputs": [],
   "source": []
  },
  {
   "cell_type": "code",
   "execution_count": 17,
   "id": "3247f5ea-d3c2-4f16-b910-d1fa670d2a3f",
   "metadata": {},
   "outputs": [],
   "source": [
    "from langchain.chat_models import ChatOpenAI\n",
    "# llm_name = \"gpt-3.5-turbo\"\n",
    "llm_name = \"gpt-3.5-turbo-16k\"\n",
    "# llm_name = \"gpt-4-32k\"\n",
    "llm = ChatOpenAI(model_name=llm_name, temperature=0)"
   ]
  },
  {
   "cell_type": "code",
   "execution_count": 18,
   "id": "b3581d7b-428b-4da1-bdfe-349925ad8ef4",
   "metadata": {},
   "outputs": [],
   "source": [
    "from langchain.chains import ConversationalRetrievalChain\n",
    "from langchain.memory import ConversationTokenBufferMemory\n",
    "\n",
    "retriever=vectordb.as_retriever()\n",
    "memory = ConversationTokenBufferMemory(\n",
    "    llm = llm,\n",
    "    max_token_limit=8000,\n",
    "    memory_key=\"chat_history\",\n",
    "    return_messages=True\n",
    ")\n",
    "qa = ConversationalRetrievalChain.from_llm(\n",
    "    llm,\n",
    "    retriever=retriever,\n",
    "    memory=memory,\n",
    "    verbose=False\n",
    ")"
   ]
  },
  {
   "cell_type": "code",
   "execution_count": 23,
   "id": "fdf65e35-6055-46d7-aa83-eb0b72338f84",
   "metadata": {},
   "outputs": [
    {
     "name": "stdout",
     "output_type": "stream",
     "text": [
      "Running on local URL:  http://127.0.0.1:7860\n",
      "\n",
      "To create a public link, set `share=True` in `launch()`.\n"
     ]
    },
    {
     "data": {
      "text/html": [
       "<div><iframe src=\"http://127.0.0.1:7860/\" width=\"100%\" height=\"500\" allow=\"autoplay; camera; microphone; clipboard-read; clipboard-write;\" frameborder=\"0\" allowfullscreen></iframe></div>"
      ],
      "text/plain": [
       "<IPython.core.display.HTML object>"
      ]
     },
     "metadata": {},
     "output_type": "display_data"
    },
    {
     "data": {
      "text/plain": []
     },
     "execution_count": 23,
     "metadata": {},
     "output_type": "execute_result"
    }
   ],
   "source": [
    "bot_name = \"Experian Bot V0.2\"\n",
    "bot_desc = \"Experian's chatbot, from its public webcrawl, serves a credit feast for all.\"\n",
    "\n",
    "with gr.Blocks() as demo:\n",
    "    gr.Markdown(f\"# {bot_name}\\n\\n{bot_desc}\")\n",
    "    chatbot = gr.Chatbot()\n",
    "    msg = gr.Textbox(label=\"Type your message (Shift + Enter to submit)\", lines=6)\n",
    "    submit = gr.Button(\"Submit\")\n",
    "    clear = gr.Button(\"Clear\")\n",
    "\n",
    "    def respond(message, chat_history):\n",
    "        result = qa({\"question\": message})\n",
    "        chat_history.append((message, result[\"answer\"]))\n",
    "        return (\"\", chat_history)\n",
    "\n",
    "    msg.submit(respond, [msg, chatbot], [msg, chatbot], queue=False)\n",
    "    submit.click(respond, [msg, chatbot], [msg, chatbot], queue=False)\n",
    "    clear.click(lambda: None, None, chatbot, queue=False)\n",
    "\n",
    "gr.close_all()\n",
    "demo.queue()\n",
    "demo.launch(share=False)"
   ]
  },
  {
   "cell_type": "code",
   "execution_count": 20,
   "id": "70a23097-1641-412c-ad1b-3a057c554120",
   "metadata": {},
   "outputs": [],
   "source": [
    "gr.close_all()\n",
    "demo.close()\n",
    "demo.clear()"
   ]
  },
  {
   "cell_type": "code",
   "execution_count": null,
   "id": "d81e7900-e2de-46dc-b322-3f27d8adda69",
   "metadata": {},
   "outputs": [],
   "source": []
  },
  {
   "cell_type": "code",
   "execution_count": null,
   "id": "69b504eb-c111-4965-92eb-d49ec74dc47b",
   "metadata": {},
   "outputs": [],
   "source": [
    "import langchain\n",
    "langchain.debug = True"
   ]
  },
  {
   "cell_type": "code",
   "execution_count": 34,
   "id": "c75613d9-54ae-415c-9426-51167775a1df",
   "metadata": {},
   "outputs": [
    {
     "name": "stdout",
     "output_type": "stream",
     "text": [
      "\n",
      "\n",
      "\u001b[1m> Entering new StuffDocumentsChain chain...\u001b[0m\n",
      "\n",
      "\n",
      "\u001b[1m> Entering new LLMChain chain...\u001b[0m\n",
      "Prompt after formatting:\n",
      "\u001b[32;1m\u001b[1;3mSystem: Use the following pieces of context to answer the users question. \n",
      "If you don't know the answer, just say that you don't know, don't try to make up an answer.\n",
      "----------------\n",
      "While Experian Consumer Services uses reasonable efforts to present the most accurate information, all offer information is presented without warranty. Experian websites have been designed to support modern, up-to-date internet browsers. Experian does not support Internet Explorer. If you are currently using a non-supported browser your experience may not be optimal, you may experience rendering issues, and you may be exposed to potential security risks. It is recommended that you upgrade to the most recent browser version. © 2023 All rights reserved. Experian. Experian and the Experian trademarks used herein are trademarks or registered trademarks of Experian and its affiliates. The use of any other trade name, copyright, or trademark is for identification and reference purposes only and does not imply any association with the copyright or trademark holder of their product or brand. Other product and company names mentioned herein are the property of their respective owners. Licenses and Disclosures.  Close   We do all the work for you No more dealing with long hold times. We'll do it so you don't have to. Start saving on your billsStart saving on your bills\n",
      "\n",
      "They work with each educational institution to accurately target, attract and connect students to schools. EducationDynamics looked for technologies that could increase their ability to better match a student to a school. They chose Experian Data Quality after an exhaustive search for a predictive analytics solution that combined both first- and third-party information to better determine whether individuals were suitable for their schools’ programs.   × Download now Please enable JavaScript to submit this form.       Email  First Name  Last Name  Company  Phone Number   Submit    Share      Legal Terms & Conditions Privacy Policy Ad Choices Press Careers Investor Relations Online Community Contact Us       © 2023 Experian Information Solutions, Inc. All rights reserved.          Experian and the Experian marks used herein are service marks or registered trademarks of Experian Informations Solutions, Inc. Other product and company names mentioned herein are the property of their respective owners.\n",
      "\n",
      "Quest and Ascend Quest | Experian         Skip to main navigation Consumer Small Business Business  Share price at Consumer Support Credit Advice Global Sites    Experian Global Sites  Argentina Australia Austria Belgium Brazil Bulgaria Canada Chile China Colombia Czech Republic Denmark Finland Germany Hong Kong India Ireland Italy Japan Malaysia Mexico Netherlands New Zealand Norway Peru Singapore South Africa Spain Sweden Switzerland Taiwan Turkey UAE United Kingdom United States     Toggle main navigation   Search   Skip to main content Solutions Solutions Advanced Analytics & Modeling Cloud Applications & Services Collections & Debt Recovery Customer Management Credit Decisioning Credit Profile Reports Data Reporting & Furnishing Data Sources Data Quality & Management Fraud Management Identity Solutions Marketing Solutions Regulatory Compliance Risk Management Workforce Management Solving for your business needs: Advanced Analytics & Modeling Artificial Intelligence & Machine Learningsmall desc Analytical Decisioningsmall desc Analytics & Modelssmall desc Business Intelligencesmall desc Data Sourcessmall desc Data Discovery & Analysissmall desc  Solving for your business needs: Cloud Applications & Services Advanced Data Analytics Platformssmall desc Ascend Technology Platformsmall desc Customer Data Platformsmall desc Decisioning Softwaresmall desc Experian Marketing Enginesmall desc Fraud Prevention Platformsmall desc Identity Platformssmall desc Loan Origination Softwaresmall desc  Solving for your business needs: Collections & Debt Recovery Collections Analytics & Insightssmall desc Collections Prioritization Strategiessmall desc Regulatory Compliancesmall desc Data & Skip Tracingsmall desc Debt Portfolio Evaluationsmall desc Omnichannel Collectionssmall desc  Solving for your business needs: Customer Management Account & Portfolio Monitoringsmall desc Digital Transformationsmall desc Partner with Experiansmall desc  Solving for your business needs: Credit Decisioning Credit Decisioning Toolssmall desc Customer Acquisitionsmall desc Credit Attributessmall desc Credit Risk Scoressmall desc Loan Origination Softwaresmall desc Prequalification Instant Decisioningsmall desc  Solving for your business needs: Data Reporting & Furnishing Consumer Data Furnishingsmall desc Trade Reporting Programsmall desc  Solving for your business needs: Data Sources Automotive Market Data​small desc Alternative Credit Data (Extended FCRA)small desc Business & Commercial Credit Datasmall desc Buy Now Pay Latersmall desc Consumer Credit Report Datasmall desc Customer Insightssmall desc Fraud & Identity Datasmall desc Marketing Datasmall desc Third-Party Data Setssmall desc  Solving for your business needs: Data Quality & Management Data Managementsmall desc Data Qualitysmall desc Data Software Solutionssmall desc  Solving for your business needs: Fraud Management 1st Party Fraudsmall desc 3rd Party Fraudsmall desc Account Takeoversmall desc Bust Out Fraudsmall desc Commercial Entity Fraudsmall desc Credit Card Verificationsmall desc Identity Resolutionsmall desc Global Data Breach Servicessmall desc Risk Based Authentication​small desc Synthetic Identity​small desc  Solving for your business needs: Identity Solutions Identity Resolutionsmall desc Identity Managementsmall desc Identity Verificationsmall desc Customer Identity Protection​small desc  Solving for your business needs: Marketing Solutions Campaign Activation Solutionssmall desc Credit\n",
      "\n",
      "If your company finances purchases of vehicles through loans, you need to not only check on the individual’s credit history, but also have full information about the risk of using the vehicle to secure the loan. Even a quote for insurance on a vehicle requires disclosure of the vehicle’s details. Experian® can help you: Confirm the identity of a vehicle – with more than 7 billion records held on vehicles in the United States, Experian can help you obtain specific details for a vehicle, such as make, model, color and dimensions. We also can help with more complex or industry-specific information, such as comparing the cost to a possible replacement or ensuring you have knowledge of the right finance, loans or insurance agreements for the vehicle. Minimize the risk of purchasing a problem vehicle – a used car may have issues that are not evident just by looking at it on the surface. These issues can have a significant impact on the value of the vehicle. We can tell you whether the vehicle: Has ever been reported as stolen Was ever involved in a serious car accident Has undergone a change in registration or license plate Is recorded as being imported or exported property Has an anomaly with the mileage record Provide peace of mind and governance when selling the vehicle – Experian is approved by manufacturers and brands and works closely with regulators to be able to provide an independent check and follow due diligence to meet the expectations of a used-vehicle purchaser. Confirm what parts or services can be used for that vehicle – we hold industry-standard codes and data assets that allow your vehicle to be linked to its proprietary information, linking you to parts files and specifications to make sure the correct components are ordered for a vehicle and fitted as the vehicle requires. Learn more                Legal Terms & Conditions Privacy Policy CA Privacy Policy Ad Choices Press Careers Investor Relations Contact Us       ©2023 Experian Information Solutions, Inc. All rights reserved.        Experian and the Experian trademarks used herein are trademarks or registered trademarks of Experian. Other product or company names mentioned herein are the property of their respective owners.\n",
      "Human: what does Experian do?\u001b[0m\n",
      "\n",
      "\u001b[1m> Finished chain.\u001b[0m\n",
      "\n",
      "\u001b[1m> Finished chain.\u001b[0m\n"
     ]
    },
    {
     "data": {
      "text/plain": [
       "{'question': 'what does Experian do?',\n",
       " 'chat_history': [HumanMessage(content='what does Experian do?', additional_kwargs={}, example=False),\n",
       "  AIMessage(content='Experian is a global information services company that provides data and analytics to help businesses and individuals make informed decisions. They offer a wide range of services, including credit reporting, identity verification, fraud detection, data quality management, and marketing solutions. Experian works with businesses in various industries, such as finance, insurance, healthcare, and retail, to help them manage risk, improve customer acquisition and retention, and make data-driven decisions. They also provide individuals with access to their credit reports and scores, as well as tools and resources to help them manage their credit and protect against identity theft.', additional_kwargs={}, example=False)],\n",
       " 'answer': 'Experian is a global information services company that provides data and analytics to help businesses and individuals make informed decisions. They offer a wide range of services, including credit reporting, identity verification, fraud detection, data quality management, and marketing solutions. Experian works with businesses in various industries, such as finance, insurance, healthcare, and retail, to help them manage risk, improve customer acquisition and retention, and make data-driven decisions. They also provide individuals with access to their credit reports and scores, as well as tools and resources to help them manage their credit and protect against identity theft.'}"
      ]
     },
     "execution_count": 34,
     "metadata": {},
     "output_type": "execute_result"
    }
   ],
   "source": [
    "qa({\"question\": \"what does Experian do?\"})"
   ]
  },
  {
   "cell_type": "code",
   "execution_count": 35,
   "id": "3cb26dd8-cdc2-4ab4-8c2f-795a2244ae7c",
   "metadata": {},
   "outputs": [
    {
     "name": "stdout",
     "output_type": "stream",
     "text": [
      "\n",
      "\n",
      "\u001b[1m> Entering new LLMChain chain...\u001b[0m\n",
      "Prompt after formatting:\n",
      "\u001b[32;1m\u001b[1;3mGiven the following conversation and a follow up question, rephrase the follow up question to be a standalone question, in its original language.\n",
      "\n",
      "Chat History:\n",
      "\n",
      "Human: what does Experian do?\n",
      "Assistant: Experian is a global information services company that provides data and analytics to help businesses and individuals make informed decisions. They offer a wide range of services, including credit reporting, identity verification, fraud detection, data quality management, and marketing solutions. Experian works with businesses in various industries, such as finance, insurance, healthcare, and retail, to help them manage risk, improve customer acquisition and retention, and make data-driven decisions. They also provide individuals with access to their credit reports and scores, as well as tools and resources to help them manage their credit and protect against identity theft.\n",
      "Follow Up Input: What are Experian's main businesses?\n",
      "Standalone question:\u001b[0m\n",
      "\n",
      "\u001b[1m> Finished chain.\u001b[0m\n",
      "\n",
      "\n",
      "\u001b[1m> Entering new StuffDocumentsChain chain...\u001b[0m\n",
      "\n",
      "\n",
      "\u001b[1m> Entering new LLMChain chain...\u001b[0m\n",
      "Prompt after formatting:\n",
      "\u001b[32;1m\u001b[1;3mSystem: Use the following pieces of context to answer the users question. \n",
      "If you don't know the answer, just say that you don't know, don't try to make up an answer.\n",
      "----------------\n",
      "Business Products and Solutions | Experian         Skip to main navigation Consumer Small Business Business  Share price at Consumer Support Credit Advice Global Sites    Experian Global Sites  Argentina Australia Austria Belgium Brazil Bulgaria Canada Chile China Colombia Czech Republic Denmark Finland Germany Hong Kong India Ireland Italy Japan Malaysia Mexico Netherlands New Zealand Norway Peru Singapore South Africa Spain Sweden Switzerland Taiwan Turkey UAE United Kingdom United States     Toggle main navigation   Search   Skip to main content Solutions Solutions Advanced Analytics & Modeling Cloud Applications & Services Collections & Debt Recovery Customer Management Credit Decisioning Credit Profile Reports Data Reporting & Furnishing Data Sources Data Quality & Management Fraud Management Identity Solutions Marketing Solutions Regulatory Compliance Risk Management Workforce Management Solving for your business needs: Advanced Analytics & Modeling Artificial Intelligence & Machine Learningsmall desc Analytical Decisioningsmall desc Analytics & Modelssmall desc Business Intelligencesmall desc Data Sourcessmall desc Data Discovery & Analysissmall desc  Solving for your business needs: Cloud Applications & Services Advanced Data Analytics Platformssmall desc Ascend Technology Platformsmall desc Customer Data Platformsmall desc Decisioning Softwaresmall desc Experian Marketing Enginesmall desc Fraud Prevention Platformsmall desc Identity Platformssmall desc Loan Origination Softwaresmall desc  Solving for your business needs: Collections & Debt Recovery Collections Analytics & Insightssmall desc Collections Prioritization Strategiessmall desc Regulatory Compliancesmall desc Data & Skip Tracingsmall desc Debt Portfolio Evaluationsmall desc Omnichannel Collectionssmall desc  Solving for your business needs: Customer Management Account & Portfolio Monitoringsmall desc Digital Transformationsmall desc Partner with Experiansmall desc  Solving for your business needs: Credit Decisioning Credit Decisioning Toolssmall desc Customer Acquisitionsmall desc Credit Attributessmall desc Credit Risk Scoressmall desc Loan Origination Softwaresmall desc Prequalification Instant Decisioningsmall desc  Solving for your business needs: Data Reporting & Furnishing Consumer Data Furnishingsmall desc Trade Reporting Programsmall desc  Solving for your business needs: Data Sources Automotive Market Data​small desc Alternative Credit Data (Extended FCRA)small desc Business & Commercial Credit Datasmall desc Buy Now Pay Latersmall desc Consumer Credit Report Datasmall desc Customer Insightssmall desc Fraud & Identity Datasmall desc Marketing Datasmall desc Third-Party Data Setssmall desc  Solving for your business needs: Data Quality & Management Data Managementsmall desc Data Qualitysmall desc Data Software Solutionssmall desc  Solving for your business needs: Fraud Management 1st Party Fraudsmall desc 3rd Party Fraudsmall desc Account Takeoversmall desc Bust Out Fraudsmall desc Commercial Entity Fraudsmall desc Credit Card Verificationsmall desc Identity Resolutionsmall desc Global Data Breach Servicessmall desc Risk Based Authentication​small desc Synthetic Identity​small desc  Solving for your business needs: Identity Solutions Identity Resolutionsmall desc Identity Managementsmall desc Identity Verificationsmall desc Customer Identity Protection​small desc  Solving for your business needs: Marketing Solutions Campaign Activation Solutionssmall desc\n",
      "\n",
      "Preference Center      Client Login  × Client Login  Audience Engine AutoCheck AutoCount BizApps Business Credit Reports BusinessIQ Business Public Records Claim Scrubber Collections Optimization Manager CompanyCreditScores Compliance Manager Contract Manager ContractorCheck Data Select eCare Online Experian Access  Experian Connect Identity Verification LPS (List Processing Solution) MetroNet Mosaic Portal OrderManager Passport Medical Necessity Passport OneSource Patient Estimates Patient Financial Clearance Payer Alerts Precise ID Small Business Append Small Business Credit SmartBusinessReports Supplier Check Reports  Close      + - Experian Resources  Home  Industries Automotive Banks and Credit Unions Collections Insurance Mortgage Online Marketplace Lending Public Sector Retail Small Business Telecom Utilities  Categories Big Data and Analytics Business to Business Insights Consumer Data Quality Credit and Economic Trends Credit Education Customer Management Data Management Debt Recovery Fraud Prevention Marketing and Advertising Inclusion Forward Regulatory Compliance Vehicle Identities Economic and Market Insights  Types Case Studies Infographics Podcasts Reports Videos Webinars White papers     Ponemon Institute Study: Is Your Company Ready For A Big Data Breach? Document: Published                                    Apr 23, 2013     Share        The latest study from the Ponemon Institute, sponsored by Experian® Data Breach Resolution How prepared is your company for a material data breach involving the loss or theft of more than 1,000 records containing sensitive or confidential business information? How would you grade the incident response plans in place that would reduce such negative consequences as the loss of reputation, customer loyalty and regulatory fines? In a new study sponsored by Experian® Data Breach Resolution, Ponemon Institute surveyed a representative sample of privacy and compliance leaders in various-sized organizations in the United States on the following topics: - Expectations that their organizations will experience a material data breach resulting in loss of customer trust, regulatory fines, loss of customer and negative public opinion - Data security practices in place to avoid a material data breach - The existence of a quality data breach preparedness plan       Access Full Resource Now  Related Resources  Case study: Custom Fraud Model - State Treasury           Document Published Date:                                                       Published         Jun 21, 2023         Read how our custom ID theft model helped this client prevent $3 million in losses while increasing efficiency.  Experian Identity Report: How to stop fraud before it begins          Podcast Uploaded Date:                                              Published         Jun 6, 2023         In a recent podcast episode, David Britton discussed the need to orchestrate fraud tools to seamlessly protect against bad actors while improving the experience for good consumers.   Video: Seamless digital applications           Video Uploaded Date:                                                                 Published         May 4, 2023         Experian’s CrossCore® Prefill helps organizations provide a low-friction experience for new customers while keeping fraud low with device and phone-based intelligence. See how you can help reduce abandonment and decrease fraud rates.\n",
      "\n",
      "text: n.com privacy scorecard.   Privacy Policy at Experian.com         Skip to main navigation Consumer Small Business Business  Share price at About Experian Consumer Support Credit Advice Global Sites    Experian Global Sites  Argentina Australia Austria Belgium Brazil Bulgaria Canada Chile China Colombia Czech Republic Denmark Finland Germany Hong Kong India Ireland Italy Japan Malaysia Mexico Netherlands New Zealand Norway Peru Singapore South Africa Spain Sweden Switzerland Taiwan Turkey UAE United Kingdom United States       Solutions Advanced Analytics & Modeling Cloud Applications & Services Collections & Debt Recovery Customer Management Credit Decisioning Credit Profile Reports Data Reporting & Furnishing Data Sources Data Quality & Management Fraud Management Identity Solutions Marketing Solutions Regulatory Compliance Risk Management  Industries Advertising & Media Automotive Banks Credit Unions Energy & Utilities Fintech Healthcare Mortgage Public Sector Rental Solutions Telecommunications  Specialized Services Business Information Services Consumer Information Services Data Breach Resolution Experian Data Quality Decision Analytics Experian Advisory Services Marketing Services Partner Solutions Experian RentBureau Screening Services Small Business Services       Privacy        Scorecard          Privacy Privacy Approach to Privacy Privacy Policies Ask Experian AutoCheck AutoCount Business Verification by Phone CCPA Privacy Policy Client Registration ConsumerInfo.com, Inc. Policy CSID Privacy Policy Experian Background Data, Inc. Experian EU-U.S. Privacy Shield Privacy Policy Experian Connect Experian’s Usage of Marketing Data OmniActivation Strategic Services Online Business Credit Reports Online Credit Reports Permission Email Scorecard Small Business Prospecting Tool Tapad’s CCPA Privacy Disclosure  Opting Out Request Experian Marketing Data Report Recent Updates GDPR Sub-Processors California Consumer Privacy Act Contact Us About Privacy   May 9, 2002 This policy applies to ScorecardSM, a business-to-consumer online Internet service of Experian Information Solutions, Inc. If you have any questions about this policy, you may contact us at scorecardprivacy@experian.com. Information We Collect About You Generally, when you request a product or service from Experian, you will be asked to provide information about yourself. -Information we collect in connection with this product or transaction Name and address Social Security number Date of birth Billing information such as credit card number Email address City of Birth Mother's Maiden Name -Information you provide to us to verify your identity -Information from Experian's database used to fulfill your request Do We Share Information With Third Parties? We are cautious and selective in our choice of affiliated and non-affiliated third party companies that we do business with. When identifying methods of improving our products and services or if we think a product may be of interest to you, we may arrange to extend offers of goods or services to you through these companies, or share certain information about you with affiliates and non-affiliated third parties so that such entities may make offers to you directly.\n",
      "\n",
      "Client Sign In  Toggle business navigation      Solutions Advanced Analytics & Modeling Cloud Applications & Services Collections & Debt Recovery Customer Management Credit Decisioning Credit Profile Reports Data Reporting & Furnishing Data Sources Data Quality & Management Fraud Management Identity Solutions Marketing Solutions Regulatory Compliance Risk Management  Industries Advertising & Media Automotive Banks Credit Unions Energy & Utilities Fintech Healthcare Mortgage Public Sector Rental Solutions Telecommunications  Specialized Services Business Information Services Consumer Information Services Data Breach Resolution Experian Data Quality Decision Analytics Experian Advisory Services Marketing Services Partner Solutions Experian RentBureau Screening Services Small Business Services      Client Sign in All Automotive Healthcare Business Credit  Audience Engine AutoCheck AutoCount Accelerate AutoCount Business Credit Reports BusinessIQ Business Public Records Claim Scrubber Collections Optimization Manager CompanyCreditScores Compliance Manager Contract Manager ContractorCheck Automotive Intelligence Engine Experian Access Experian Connect Experian Data Quality Experian Developer Portal Identity Verification LPS (List Processing Solution) MetroNet Mosaic Portal MyHealthDirect Order Manager Passport Medical Necessity Passport OneSource® Patient Estimates Patient Financial Clearance Payer Alerts Precise ID Small Business Append Small Business Credit SmartBusinessReports Supplier Check Reports Velocity  Audience Engine AutoCheck AutoCount Accelerate AutoCount Automotive Intelligence Engine Experian Access Experian Data Quality Experian Developer Portal Mosaic Portal Velocity  Claim Scrubber Collections Optimization Manager Compliance Manager Contract Manager Identity Verification MyHealthDirect Order Manager Passport Medical Necessity Passport OneSource® Patient Estimates Patient Financial Clearance Payer Alerts  BizApps Business Credit Reports BusinessIQ Business Public Records CompanyCreditScores ContractorCheck Small Business Credit SmartBusinessReports Supplier Check Reports       Experian Automotive The insights you need to drive actionable results    Automotive        Automobile Data and Industry Trends         Share   Facebook   Twitter   LinkedIn   Email   Print     Automotive Data Insights to Drive Bottom Line Results Experian Automotive clients leverage our world-class automotive data intelligence to better understand their markets, manage risk, market to the right customers, and keep them coming back. We focus on helping automotive dealers, OEMs, lenders, ad agencies, and the aftermarket drive actionable results. We are the only primary source of consumer, credit, vehicle, and digital identity data assets under one roof. From AutoCheck® Vehicle History Reports to market reporting and advanced marketing solutions, we use our unique data and advanced analytics to help the automotive industry keep moving forward. Choose your area of focus to get started.    OEMs Reach more customers and discover what they're demanding.   Dealers Improve marketing effectiveness & outperform the competition.   Auto Lenders Better interpret a consumers credit and guard against fraud.   Ad Agencies & Media Groups New tools to improve your clients’ marketing effectiveness.   Aftermarket Industry Data to connect the right parts, vehicles, and customers.   Affiliated Auto Industry Transform your market with powerful automotive insights.\n",
      "Human: What are the main businesses of Experian?\u001b[0m\n",
      "\n",
      "\u001b[1m> Finished chain.\u001b[0m\n",
      "\n",
      "\u001b[1m> Finished chain.\u001b[0m\n"
     ]
    },
    {
     "data": {
      "text/plain": [
       "{'question': \"What are Experian's main businesses?\",\n",
       " 'chat_history': [HumanMessage(content='what does Experian do?', additional_kwargs={}, example=False),\n",
       "  AIMessage(content='Experian is a global information services company that provides data and analytics to help businesses and individuals make informed decisions. They offer a wide range of services, including credit reporting, identity verification, fraud detection, data quality management, and marketing solutions. Experian works with businesses in various industries, such as finance, insurance, healthcare, and retail, to help them manage risk, improve customer acquisition and retention, and make data-driven decisions. They also provide individuals with access to their credit reports and scores, as well as tools and resources to help them manage their credit and protect against identity theft.', additional_kwargs={}, example=False),\n",
       "  HumanMessage(content=\"What are Experian's main businesses?\", additional_kwargs={}, example=False),\n",
       "  AIMessage(content='The main businesses of Experian include:\\n\\n1. Advanced Analytics & Modeling: Providing analytical decisioning, data discovery, and modeling solutions.\\n2. Cloud Applications & Services: Offering advanced data analytics platforms, customer data platforms, and fraud prevention platforms.\\n3. Collections & Debt Recovery: Providing collections analytics, prioritization strategies, and omnichannel collections solutions.\\n4. Customer Management: Offering account and portfolio monitoring, digital transformation, and partnership solutions.\\n5. Credit Decisioning: Providing credit decisioning tools, customer acquisition solutions, and credit risk scores.\\n6. Data Reporting & Furnishing: Offering consumer data furnishing and trade reporting programs.\\n7. Data Sources: Providing various data sources, including automotive market data, alternative credit data, and customer insights.\\n8. Data Quality & Management: Offering data management and data quality solutions.\\n9. Fraud Management: Providing fraud prevention solutions for first-party and third-party fraud, account takeovers, and identity resolution.\\n10. Identity Solutions: Offering identity resolution, management, verification, and customer identity protection solutions.\\n11. Marketing Solutions: Providing campaign activation solutions and marketing data reports.\\n\\nThese are just some of the main businesses of Experian. They also offer specialized services in business information, consumer information, data breach resolution, and more.', additional_kwargs={}, example=False)],\n",
       " 'answer': 'The main businesses of Experian include:\\n\\n1. Advanced Analytics & Modeling: Providing analytical decisioning, data discovery, and modeling solutions.\\n2. Cloud Applications & Services: Offering advanced data analytics platforms, customer data platforms, and fraud prevention platforms.\\n3. Collections & Debt Recovery: Providing collections analytics, prioritization strategies, and omnichannel collections solutions.\\n4. Customer Management: Offering account and portfolio monitoring, digital transformation, and partnership solutions.\\n5. Credit Decisioning: Providing credit decisioning tools, customer acquisition solutions, and credit risk scores.\\n6. Data Reporting & Furnishing: Offering consumer data furnishing and trade reporting programs.\\n7. Data Sources: Providing various data sources, including automotive market data, alternative credit data, and customer insights.\\n8. Data Quality & Management: Offering data management and data quality solutions.\\n9. Fraud Management: Providing fraud prevention solutions for first-party and third-party fraud, account takeovers, and identity resolution.\\n10. Identity Solutions: Offering identity resolution, management, verification, and customer identity protection solutions.\\n11. Marketing Solutions: Providing campaign activation solutions and marketing data reports.\\n\\nThese are just some of the main businesses of Experian. They also offer specialized services in business information, consumer information, data breach resolution, and more.'}"
      ]
     },
     "execution_count": 35,
     "metadata": {},
     "output_type": "execute_result"
    }
   ],
   "source": [
    "qa({\"question\": \"What are Experian's main businesses?\"})"
   ]
  },
  {
   "cell_type": "code",
   "execution_count": null,
   "id": "2f388298-ef27-4965-b40a-642986a21df5",
   "metadata": {},
   "outputs": [],
   "source": [
    "langchain.debug = False"
   ]
  }
 ],
 "metadata": {
  "kernelspec": {
   "display_name": "Python 3 (ipykernel)",
   "language": "python",
   "name": "python3"
  },
  "language_info": {
   "codemirror_mode": {
    "name": "ipython",
    "version": 3
   },
   "file_extension": ".py",
   "mimetype": "text/x-python",
   "name": "python",
   "nbconvert_exporter": "python",
   "pygments_lexer": "ipython3",
   "version": "3.11.3"
  }
 },
 "nbformat": 4,
 "nbformat_minor": 5
}
